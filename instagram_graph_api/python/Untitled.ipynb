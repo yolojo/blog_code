{
 "cells": [
  {
   "cell_type": "code",
   "execution_count": 1,
   "metadata": {},
   "outputs": [
    {
     "name": "stdout",
     "output_type": "stream",
     "text": [
      "\n",
      "---- LATEST POST -----\n",
      "\n",
      "\tLink to post:\n",
      "\thttps://www.instagram.com/p/CJjTdGjh20z/\n",
      "\n",
      "\tPost caption:\n",
      "\tSanta Monica Pier\n",
      "\n",
      "\tMedia Type:\n",
      "\tIMAGE\n",
      "\n",
      "\tPosted at:\n",
      "\t2021-01-02T17:51:26+0000\n",
      "\n",
      "---- DAILY USER ACCOUNT INSIGHTS -----\n",
      "\n",
      "\tImpressions (day): 0\n",
      "\t\t2021-02-08T08:00:00+0000: 0\n",
      "\t\t2021-02-09T08:00:00+0000: 0\n",
      "\tProfile Views (day): 1\n",
      "\t\t2021-02-08T08:00:00+0000: 1\n",
      "\t\t2021-02-09T08:00:00+0000: 0\n",
      "\tReach (day): 0\n",
      "\t\t2021-02-08T08:00:00+0000: 0\n",
      "\t\t2021-02-09T08:00:00+0000: 0\n"
     ]
    }
   ],
   "source": [
    "import streamlit as st \n",
    "import altair as alt\n",
    "import requests\n",
    "import numpy as np\n",
    "import pandas as pd\n",
    "import time \n",
    "from defines import getCreds, makeApiCall\n",
    "from insights import getUserInsights, getUserMedia"
   ]
  },
  {
   "cell_type": "code",
   "execution_count": 3,
   "metadata": {},
   "outputs": [],
   "source": [
    "params = getCreds() # get creds\n",
    "\n",
    "response = getUserInsights( params ) # get insights for a user\n",
    "follower_count = response['json_data']['data'][0]['values'][0]['value']\n",
    "impressions = response['json_data']['data'][1]['values'][0]['value']\n",
    "profile_views = response['json_data']['data'][2]['values'][0]['value']"
   ]
  },
  {
   "cell_type": "code",
   "execution_count": 7,
   "metadata": {},
   "outputs": [
    {
     "ename": "AttributeError",
     "evalue": "module 'pandas' has no attribute 'Dataframe'",
     "output_type": "error",
     "traceback": [
      "\u001b[0;31m---------------------------------------------------------------------------\u001b[0m",
      "\u001b[0;31mAttributeError\u001b[0m                            Traceback (most recent call last)",
      "\u001b[0;32m<ipython-input-7-253170efcaed>\u001b[0m in \u001b[0;36m<module>\u001b[0;34m\u001b[0m\n\u001b[1;32m      1\u001b[0m \u001b[0mdata\u001b[0m \u001b[0;34m=\u001b[0m \u001b[0;34m{\u001b[0m\u001b[0;34m'Metric'\u001b[0m\u001b[0;34m:\u001b[0m \u001b[0;34m[\u001b[0m\u001b[0;34m'Follower Count'\u001b[0m\u001b[0;34m,\u001b[0m \u001b[0;34m'Impressions'\u001b[0m\u001b[0;34m,\u001b[0m \u001b[0;34m'Profile Views'\u001b[0m\u001b[0;34m]\u001b[0m\u001b[0;34m,\u001b[0m \u001b[0;34m'Count'\u001b[0m\u001b[0;34m:\u001b[0m \u001b[0;34m[\u001b[0m\u001b[0mfollower_count\u001b[0m\u001b[0;34m,\u001b[0m \u001b[0mimpressions\u001b[0m\u001b[0;34m,\u001b[0m \u001b[0mprofile_views\u001b[0m\u001b[0;34m]\u001b[0m\u001b[0;34m}\u001b[0m\u001b[0;34m\u001b[0m\u001b[0;34m\u001b[0m\u001b[0m\n\u001b[1;32m      2\u001b[0m \u001b[0;34m\u001b[0m\u001b[0m\n\u001b[0;32m----> 3\u001b[0;31m \u001b[0mdf\u001b[0m \u001b[0;34m=\u001b[0m \u001b[0mpd\u001b[0m\u001b[0;34m.\u001b[0m\u001b[0mDataframe\u001b[0m\u001b[0;34m(\u001b[0m\u001b[0mdata\u001b[0m\u001b[0;34m)\u001b[0m\u001b[0;34m\u001b[0m\u001b[0;34m\u001b[0m\u001b[0m\n\u001b[0m\u001b[1;32m      4\u001b[0m \u001b[0mdf\u001b[0m\u001b[0;34m\u001b[0m\u001b[0;34m\u001b[0m\u001b[0m\n",
      "\u001b[0;32m~/opt/anaconda3/lib/python3.8/site-packages/pandas/__init__.py\u001b[0m in \u001b[0;36m__getattr__\u001b[0;34m(name)\u001b[0m\n\u001b[1;32m    256\u001b[0m             \u001b[0;32mreturn\u001b[0m \u001b[0m_SparseArray\u001b[0m\u001b[0;34m\u001b[0m\u001b[0;34m\u001b[0m\u001b[0m\n\u001b[1;32m    257\u001b[0m \u001b[0;34m\u001b[0m\u001b[0m\n\u001b[0;32m--> 258\u001b[0;31m         \u001b[0;32mraise\u001b[0m \u001b[0mAttributeError\u001b[0m\u001b[0;34m(\u001b[0m\u001b[0;34mf\"module 'pandas' has no attribute '{name}'\"\u001b[0m\u001b[0;34m)\u001b[0m\u001b[0;34m\u001b[0m\u001b[0;34m\u001b[0m\u001b[0m\n\u001b[0m\u001b[1;32m    259\u001b[0m \u001b[0;34m\u001b[0m\u001b[0m\n\u001b[1;32m    260\u001b[0m \u001b[0;34m\u001b[0m\u001b[0m\n",
      "\u001b[0;31mAttributeError\u001b[0m: module 'pandas' has no attribute 'Dataframe'"
     ]
    }
   ],
   "source": [
    "data = {'Metric': ['Follower Count', 'Impressions', 'Profile Views'], 'Count': [follower_count, impressions, profile_views]}\n",
    "\n",
    "df = pd.Dataframe(data) \n",
    "df"
   ]
  },
  {
   "cell_type": "code",
   "execution_count": null,
   "metadata": {},
   "outputs": [],
   "source": []
  }
 ],
 "metadata": {
  "kernelspec": {
   "display_name": "Python 3",
   "language": "python",
   "name": "python3"
  },
  "language_info": {
   "codemirror_mode": {
    "name": "ipython",
    "version": 3
   },
   "file_extension": ".py",
   "mimetype": "text/x-python",
   "name": "python",
   "nbconvert_exporter": "python",
   "pygments_lexer": "ipython3",
   "version": "3.8.5"
  }
 },
 "nbformat": 4,
 "nbformat_minor": 4
}
